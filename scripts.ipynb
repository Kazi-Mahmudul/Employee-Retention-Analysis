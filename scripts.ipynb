{
 "cells": [
  {
   "cell_type": "markdown",
   "id": "c3e47058-9ff5-4fb7-8fa9-a08ff8eaf8e3",
   "metadata": {},
   "source": [
    "#### Data Import"
   ]
  },
  {
   "cell_type": "code",
   "execution_count": 3,
   "id": "ed2b4109-6a05-418e-b4e7-eaa3b515f907",
   "metadata": {},
   "outputs": [
    {
     "data": {
      "text/html": [
       "<div>\n",
       "<style scoped>\n",
       "    .dataframe tbody tr th:only-of-type {\n",
       "        vertical-align: middle;\n",
       "    }\n",
       "\n",
       "    .dataframe tbody tr th {\n",
       "        vertical-align: top;\n",
       "    }\n",
       "\n",
       "    .dataframe thead th {\n",
       "        text-align: right;\n",
       "    }\n",
       "</style>\n",
       "<table border=\"1\" class=\"dataframe\">\n",
       "  <thead>\n",
       "    <tr style=\"text-align: right;\">\n",
       "      <th></th>\n",
       "      <th>id</th>\n",
       "      <th>firm</th>\n",
       "      <th>date_review</th>\n",
       "      <th>job_title</th>\n",
       "      <th>current</th>\n",
       "      <th>location</th>\n",
       "      <th>overall_rating</th>\n",
       "      <th>work_life_balance</th>\n",
       "      <th>culture_values</th>\n",
       "      <th>diversity_inclusion</th>\n",
       "      <th>...</th>\n",
       "      <th>ceo_approv</th>\n",
       "      <th>outlook</th>\n",
       "      <th>headline</th>\n",
       "      <th>pros</th>\n",
       "      <th>cons</th>\n",
       "      <th>company_size</th>\n",
       "      <th>sentimental_score</th>\n",
       "      <th>review_year</th>\n",
       "      <th>review_month</th>\n",
       "      <th>experience_level</th>\n",
       "    </tr>\n",
       "  </thead>\n",
       "  <tbody>\n",
       "    <tr>\n",
       "      <th>0</th>\n",
       "      <td>1</td>\n",
       "      <td>AFH-Wealth-Management</td>\n",
       "      <td>2015-04-05</td>\n",
       "      <td></td>\n",
       "      <td>Current Employee</td>\n",
       "      <td>unknown</td>\n",
       "      <td>2.0</td>\n",
       "      <td>4.0</td>\n",
       "      <td>3.0</td>\n",
       "      <td>4</td>\n",
       "      <td>...</td>\n",
       "      <td>o</td>\n",
       "      <td>r</td>\n",
       "      <td>Young colleagues, poor micro management</td>\n",
       "      <td>Very friendly and welcoming to new staff. Easy...</td>\n",
       "      <td>Poor salaries, poor training and communication.</td>\n",
       "      <td>Mid-Size</td>\n",
       "      <td>1.0</td>\n",
       "      <td>2015</td>\n",
       "      <td>4</td>\n",
       "      <td>Mid-level</td>\n",
       "    </tr>\n",
       "    <tr>\n",
       "      <th>1</th>\n",
       "      <td>2</td>\n",
       "      <td>AFH-Wealth-Management</td>\n",
       "      <td>2015-12-11</td>\n",
       "      <td>Office Administrator</td>\n",
       "      <td>Current Employee, more than 1 year</td>\n",
       "      <td>Bromsgrove, England, England</td>\n",
       "      <td>2.0</td>\n",
       "      <td>3.0</td>\n",
       "      <td>1.0</td>\n",
       "      <td>4</td>\n",
       "      <td>...</td>\n",
       "      <td>o</td>\n",
       "      <td>r</td>\n",
       "      <td>Excellent staff, poor salary</td>\n",
       "      <td>Friendly, helpful and hard-working colleagues</td>\n",
       "      <td>Poor salary which doesn't improve much with pr...</td>\n",
       "      <td>Mid-Size</td>\n",
       "      <td>-1.0</td>\n",
       "      <td>2015</td>\n",
       "      <td>12</td>\n",
       "      <td>Entry</td>\n",
       "    </tr>\n",
       "    <tr>\n",
       "      <th>2</th>\n",
       "      <td>3</td>\n",
       "      <td>AFH-Wealth-Management</td>\n",
       "      <td>2016-01-28</td>\n",
       "      <td>Office Administrator</td>\n",
       "      <td>Current Employee, less than 1 year</td>\n",
       "      <td>Bromsgrove, England, England</td>\n",
       "      <td>1.0</td>\n",
       "      <td>1.0</td>\n",
       "      <td>1.0</td>\n",
       "      <td>4</td>\n",
       "      <td>...</td>\n",
       "      <td>o</td>\n",
       "      <td>x</td>\n",
       "      <td>Low salary, bad micromanagement</td>\n",
       "      <td>Easy to get the job even without experience in...</td>\n",
       "      <td>Very low salary, poor working conditions, very...</td>\n",
       "      <td>Mid-Size</td>\n",
       "      <td>-1.0</td>\n",
       "      <td>2016</td>\n",
       "      <td>1</td>\n",
       "      <td>Entry</td>\n",
       "    </tr>\n",
       "    <tr>\n",
       "      <th>3</th>\n",
       "      <td>4</td>\n",
       "      <td>AFH-Wealth-Management</td>\n",
       "      <td>2016-04-16</td>\n",
       "      <td></td>\n",
       "      <td>Current Employee</td>\n",
       "      <td>unknown</td>\n",
       "      <td>5.0</td>\n",
       "      <td>2.0</td>\n",
       "      <td>3.0</td>\n",
       "      <td>4</td>\n",
       "      <td>...</td>\n",
       "      <td>o</td>\n",
       "      <td>r</td>\n",
       "      <td>Over promised under delivered</td>\n",
       "      <td>Nice staff to work with</td>\n",
       "      <td>No career progression and salary is poor</td>\n",
       "      <td>Mid-Size</td>\n",
       "      <td>-1.0</td>\n",
       "      <td>2016</td>\n",
       "      <td>4</td>\n",
       "      <td>Mid-level</td>\n",
       "    </tr>\n",
       "    <tr>\n",
       "      <th>4</th>\n",
       "      <td>5</td>\n",
       "      <td>AFH-Wealth-Management</td>\n",
       "      <td>2016-04-23</td>\n",
       "      <td>Office Administrator</td>\n",
       "      <td>Current Employee, more than 1 year</td>\n",
       "      <td>Bromsgrove, England, England</td>\n",
       "      <td>1.0</td>\n",
       "      <td>2.0</td>\n",
       "      <td>1.0</td>\n",
       "      <td>4</td>\n",
       "      <td>...</td>\n",
       "      <td>o</td>\n",
       "      <td>x</td>\n",
       "      <td>client reporting admin</td>\n",
       "      <td>Easy to get the job, Nice colleagues.</td>\n",
       "      <td>Abysmal pay, around minimum wage. No actual tr...</td>\n",
       "      <td>Mid-Size</td>\n",
       "      <td>-1.0</td>\n",
       "      <td>2016</td>\n",
       "      <td>4</td>\n",
       "      <td>Entry</td>\n",
       "    </tr>\n",
       "  </tbody>\n",
       "</table>\n",
       "<p>5 rows × 24 columns</p>\n",
       "</div>"
      ],
      "text/plain": [
       "   id                   firm date_review              job_title  \\\n",
       "0   1  AFH-Wealth-Management  2015-04-05                          \n",
       "1   2  AFH-Wealth-Management  2015-12-11   Office Administrator   \n",
       "2   3  AFH-Wealth-Management  2016-01-28   Office Administrator   \n",
       "3   4  AFH-Wealth-Management  2016-04-16                          \n",
       "4   5  AFH-Wealth-Management  2016-04-23   Office Administrator   \n",
       "\n",
       "                              current                      location  \\\n",
       "0                    Current Employee                       unknown   \n",
       "1  Current Employee, more than 1 year  Bromsgrove, England, England   \n",
       "2  Current Employee, less than 1 year  Bromsgrove, England, England   \n",
       "3                    Current Employee                       unknown   \n",
       "4  Current Employee, more than 1 year  Bromsgrove, England, England   \n",
       "\n",
       "   overall_rating  work_life_balance  culture_values  diversity_inclusion  \\\n",
       "0             2.0                4.0             3.0                    4   \n",
       "1             2.0                3.0             1.0                    4   \n",
       "2             1.0                1.0             1.0                    4   \n",
       "3             5.0                2.0             3.0                    4   \n",
       "4             1.0                2.0             1.0                    4   \n",
       "\n",
       "   ...  ceo_approv  outlook                                 headline  \\\n",
       "0  ...           o        r  Young colleagues, poor micro management   \n",
       "1  ...           o        r             Excellent staff, poor salary   \n",
       "2  ...           o        x          Low salary, bad micromanagement   \n",
       "3  ...           o        r            Over promised under delivered   \n",
       "4  ...           o        x                   client reporting admin   \n",
       "\n",
       "                                                pros  \\\n",
       "0  Very friendly and welcoming to new staff. Easy...   \n",
       "1      Friendly, helpful and hard-working colleagues   \n",
       "2  Easy to get the job even without experience in...   \n",
       "3                            Nice staff to work with   \n",
       "4              Easy to get the job, Nice colleagues.   \n",
       "\n",
       "                                                cons company_size  \\\n",
       "0    Poor salaries, poor training and communication.     Mid-Size   \n",
       "1  Poor salary which doesn't improve much with pr...     Mid-Size   \n",
       "2  Very low salary, poor working conditions, very...     Mid-Size   \n",
       "3           No career progression and salary is poor     Mid-Size   \n",
       "4  Abysmal pay, around minimum wage. No actual tr...     Mid-Size   \n",
       "\n",
       "  sentimental_score review_year review_month experience_level  \n",
       "0               1.0        2015            4        Mid-level  \n",
       "1              -1.0        2015           12            Entry  \n",
       "2              -1.0        2016            1            Entry  \n",
       "3              -1.0        2016            4        Mid-level  \n",
       "4              -1.0        2016            4            Entry  \n",
       "\n",
       "[5 rows x 24 columns]"
      ]
     },
     "execution_count": 3,
     "metadata": {},
     "output_type": "execute_result"
    }
   ],
   "source": [
    "import pandas as pd\n",
    "\n",
    "# Import the cleaned data\n",
    "df_cleaned = pd.read_csv('C:/Users/mahmu/Downloads/DataAnalyticsProjects/Employee Retention Analysis/cleaned_data.csv')\n",
    "\n",
    "df_cleaned.head()"
   ]
  },
  {
   "cell_type": "code",
   "execution_count": 4,
   "id": "3047c4dc-c4f4-4a7c-aa79-983b2f3c778c",
   "metadata": {},
   "outputs": [
    {
     "data": {
      "text/plain": [
       "Index(['id', 'firm', 'date_review', 'job_title', 'current', 'location',\n",
       "       'overall_rating', 'work_life_balance', 'culture_values',\n",
       "       'diversity_inclusion', 'career_opp', 'comp_benefits', 'senior_mgmt',\n",
       "       'recommend', 'ceo_approv', 'outlook', 'headline', 'pros', 'cons',\n",
       "       'company_size', 'sentimental_score', 'review_year', 'review_month',\n",
       "       'experience_level'],\n",
       "      dtype='object')"
      ]
     },
     "execution_count": 4,
     "metadata": {},
     "output_type": "execute_result"
    }
   ],
   "source": [
    "# All Columns\n",
    "df_cleaned.columns"
   ]
  },
  {
   "cell_type": "code",
   "execution_count": 5,
   "id": "06344f51-dc32-476c-b8f5-3b6f0552cf82",
   "metadata": {},
   "outputs": [
    {
     "data": {
      "text/plain": [
       "current\n",
       "Current Employee                           180956\n",
       "Former Employee                            126248\n",
       "Current Employee, more than 1 year          79126\n",
       "Current Employee, more than 3 years         63450\n",
       "Former Employee, more than 1 year           63347\n",
       "Current Employee, less than 1 year          47717\n",
       "Former Employee, more than 3 years          41806\n",
       "Former Employee, less than 1 year           40709\n",
       "Current Employee, more than 5 years         38202\n",
       "Current Employee, more than 10 years        23520\n",
       "Former Employee, more than 5 years          22046\n",
       "Current Employee, more than 8 years         17639\n",
       "Former Employee, more than 10 years         14580\n",
       "Former Employee, more than 8 years          10231\n",
       "Former Contractor, less than 1 year             6\n",
       "Former Intern, less than 1 year                 4\n",
       "Current Contractor, less than 1 year            3\n",
       "Current Contractor, more than 1 year            3\n",
       "Former Contractor                               2\n",
       "Former Intern                                   2\n",
       "Current Contractor                              2\n",
       "KEY NOT FOUND: jobLine.per_diem-former          2\n",
       "Former Intern, more than 1 year                 1\n",
       "Former Contractor, more than 1 year             1\n",
       "Current Intern, less than 1 year                1\n",
       "Former Contractor, more than 8 years            1\n",
       "Former Temporary Employee                       1\n",
       "Current Freelancer, more than 3 years           1\n",
       "KEY NOT FOUND: jobLine.temporary-former         1\n",
       "Name: count, dtype: int64"
      ]
     },
     "execution_count": 5,
     "metadata": {},
     "output_type": "execute_result"
    }
   ],
   "source": [
    "# values from current column \n",
    "df_cleaned['current'].value_counts()"
   ]
  },
  {
   "cell_type": "markdown",
   "id": "45c03336-be83-4e87-87ee-56266bc310d6",
   "metadata": {},
   "source": [
    "#### Reviewer Status Column"
   ]
  },
  {
   "cell_type": "code",
   "execution_count": 6,
   "id": "a98cc3f6-897b-4035-918c-fbd8d301feef",
   "metadata": {},
   "outputs": [
    {
     "data": {
      "text/plain": [
       "reviewer_status\n",
       "Current Employee    450620\n",
       "Former Employee     318988\n",
       "Name: count, dtype: int64"
      ]
     },
     "execution_count": 6,
     "metadata": {},
     "output_type": "execute_result"
    }
   ],
   "source": [
    "import numpy as np\n",
    "\n",
    "# Create reviewer_status column\n",
    "df_cleaned['reviewer_status'] = np.where(\n",
    "    df_cleaned['current'].str.contains('Former', case=False, na=False), 'Former Employee', 'Current Employee'\n",
    ")\n",
    "\n",
    "# value count of reviewer_status column\n",
    "df_cleaned['reviewer_status'].value_counts()"
   ]
  },
  {
   "cell_type": "markdown",
   "id": "d7413c5e-c10d-4c67-a751-dfd3ceca5efe",
   "metadata": {},
   "source": [
    "The 'reviewer_status' column is created to separate Current and Former employees so that the Retention Label can be separated. "
   ]
  },
  {
   "cell_type": "markdown",
   "id": "499094e4-3dc4-4cb7-8798-cb8ce61c48ad",
   "metadata": {},
   "source": [
    "#### Retention Label column"
   ]
  },
  {
   "cell_type": "code",
   "execution_count": 7,
   "id": "672b8c5f-6c17-45d6-ad81-e05053ff8750",
   "metadata": {},
   "outputs": [],
   "source": [
    "import numpy as np\n",
    "\n",
    "# Logic to create the retention_label column \n",
    "df_cleaned['retention_label'] = np.where(\n",
    "    (df_cleaned['reviewer_status'] == 'Former Employee'), 0, \n",
    "    np.where(\n",
    "    (df_cleaned['overall_rating'] <= 3) &\n",
    "    (df_cleaned['work_life_balance'] <= 3) &\n",
    "    (df_cleaned['comp_benefits'] <= 3) &\n",
    "    (df_cleaned['senior_mgmt'] <= 3) &\n",
    "    (df_cleaned['career_opp'] <= 3) &\n",
    "    (df_cleaned['sentimental_score'] == -1), \n",
    "    0, # Likely to leave\n",
    "    1  # Likely to stay\n",
    "    )\n",
    ")"
   ]
  },
  {
   "cell_type": "markdown",
   "id": "b6ac6eb1-8560-49ed-9d14-0dacb40e86b0",
   "metadata": {},
   "source": [
    "Former Employees have already left the companies, My target is to find those Current Employees who might leave the companies; that's why the logic of creating the 'retention_label' column is like that. "
   ]
  },
  {
   "cell_type": "code",
   "execution_count": 8,
   "id": "a9d5f84a-5592-4e2c-bea2-c88d152cf046",
   "metadata": {},
   "outputs": [
    {
     "data": {
      "text/plain": [
       "retention_label\n",
       "1    407294\n",
       "0    362314\n",
       "Name: count, dtype: int64"
      ]
     },
     "execution_count": 8,
     "metadata": {},
     "output_type": "execute_result"
    }
   ],
   "source": [
    "# Grouped by retention_label\n",
    "df_cleaned['retention_label'].value_counts()"
   ]
  },
  {
   "cell_type": "code",
   "execution_count": 9,
   "id": "fb76a7f5-a5c2-45eb-9693-da83d8fb3ccd",
   "metadata": {},
   "outputs": [
    {
     "data": {
      "text/plain": [
       "Index(['id', 'firm', 'date_review', 'job_title', 'current', 'location',\n",
       "       'overall_rating', 'work_life_balance', 'culture_values',\n",
       "       'diversity_inclusion', 'career_opp', 'comp_benefits', 'senior_mgmt',\n",
       "       'recommend', 'ceo_approv', 'outlook', 'headline', 'pros', 'cons',\n",
       "       'company_size', 'sentimental_score', 'review_year', 'review_month',\n",
       "       'experience_level', 'reviewer_status', 'retention_label'],\n",
       "      dtype='object')"
      ]
     },
     "execution_count": 9,
     "metadata": {},
     "output_type": "execute_result"
    }
   ],
   "source": [
    "df_cleaned.columns"
   ]
  },
  {
   "cell_type": "code",
   "execution_count": 10,
   "id": "072bd7f5-51f8-4eaf-9618-fc5eec647f5a",
   "metadata": {},
   "outputs": [
    {
     "data": {
      "text/html": [
       "<div>\n",
       "<style scoped>\n",
       "    .dataframe tbody tr th:only-of-type {\n",
       "        vertical-align: middle;\n",
       "    }\n",
       "\n",
       "    .dataframe tbody tr th {\n",
       "        vertical-align: top;\n",
       "    }\n",
       "\n",
       "    .dataframe thead th {\n",
       "        text-align: right;\n",
       "    }\n",
       "</style>\n",
       "<table border=\"1\" class=\"dataframe\">\n",
       "  <thead>\n",
       "    <tr style=\"text-align: right;\">\n",
       "      <th></th>\n",
       "      <th>id</th>\n",
       "      <th>date_review</th>\n",
       "      <th>review_year</th>\n",
       "      <th>review_month</th>\n",
       "      <th>company_size</th>\n",
       "      <th>experience_level</th>\n",
       "      <th>reviewer_status</th>\n",
       "      <th>overall_rating</th>\n",
       "      <th>work_life_balance</th>\n",
       "      <th>career_opp</th>\n",
       "      <th>comp_benefits</th>\n",
       "      <th>senior_mgmt</th>\n",
       "      <th>retention_label</th>\n",
       "    </tr>\n",
       "  </thead>\n",
       "  <tbody>\n",
       "    <tr>\n",
       "      <th>0</th>\n",
       "      <td>1</td>\n",
       "      <td>2015-04-05</td>\n",
       "      <td>2015</td>\n",
       "      <td>4</td>\n",
       "      <td>Mid-Size</td>\n",
       "      <td>Mid-level</td>\n",
       "      <td>Current Employee</td>\n",
       "      <td>2.0</td>\n",
       "      <td>4.0</td>\n",
       "      <td>2.0</td>\n",
       "      <td>3.0</td>\n",
       "      <td>3.0</td>\n",
       "      <td>1</td>\n",
       "    </tr>\n",
       "    <tr>\n",
       "      <th>1</th>\n",
       "      <td>2</td>\n",
       "      <td>2015-12-11</td>\n",
       "      <td>2015</td>\n",
       "      <td>12</td>\n",
       "      <td>Mid-Size</td>\n",
       "      <td>Entry</td>\n",
       "      <td>Current Employee</td>\n",
       "      <td>2.0</td>\n",
       "      <td>3.0</td>\n",
       "      <td>2.0</td>\n",
       "      <td>1.0</td>\n",
       "      <td>4.0</td>\n",
       "      <td>1</td>\n",
       "    </tr>\n",
       "    <tr>\n",
       "      <th>2</th>\n",
       "      <td>3</td>\n",
       "      <td>2016-01-28</td>\n",
       "      <td>2016</td>\n",
       "      <td>1</td>\n",
       "      <td>Mid-Size</td>\n",
       "      <td>Entry</td>\n",
       "      <td>Current Employee</td>\n",
       "      <td>1.0</td>\n",
       "      <td>1.0</td>\n",
       "      <td>1.0</td>\n",
       "      <td>1.0</td>\n",
       "      <td>1.0</td>\n",
       "      <td>0</td>\n",
       "    </tr>\n",
       "    <tr>\n",
       "      <th>3</th>\n",
       "      <td>4</td>\n",
       "      <td>2016-04-16</td>\n",
       "      <td>2016</td>\n",
       "      <td>4</td>\n",
       "      <td>Mid-Size</td>\n",
       "      <td>Mid-level</td>\n",
       "      <td>Current Employee</td>\n",
       "      <td>5.0</td>\n",
       "      <td>2.0</td>\n",
       "      <td>2.0</td>\n",
       "      <td>2.0</td>\n",
       "      <td>3.0</td>\n",
       "      <td>1</td>\n",
       "    </tr>\n",
       "    <tr>\n",
       "      <th>4</th>\n",
       "      <td>5</td>\n",
       "      <td>2016-04-23</td>\n",
       "      <td>2016</td>\n",
       "      <td>4</td>\n",
       "      <td>Mid-Size</td>\n",
       "      <td>Entry</td>\n",
       "      <td>Current Employee</td>\n",
       "      <td>1.0</td>\n",
       "      <td>2.0</td>\n",
       "      <td>2.0</td>\n",
       "      <td>1.0</td>\n",
       "      <td>1.0</td>\n",
       "      <td>0</td>\n",
       "    </tr>\n",
       "  </tbody>\n",
       "</table>\n",
       "</div>"
      ],
      "text/plain": [
       "   id date_review  review_year  review_month company_size experience_level  \\\n",
       "0   1  2015-04-05         2015             4     Mid-Size        Mid-level   \n",
       "1   2  2015-12-11         2015            12     Mid-Size            Entry   \n",
       "2   3  2016-01-28         2016             1     Mid-Size            Entry   \n",
       "3   4  2016-04-16         2016             4     Mid-Size        Mid-level   \n",
       "4   5  2016-04-23         2016             4     Mid-Size            Entry   \n",
       "\n",
       "    reviewer_status  overall_rating  work_life_balance  career_opp  \\\n",
       "0  Current Employee             2.0                4.0         2.0   \n",
       "1  Current Employee             2.0                3.0         2.0   \n",
       "2  Current Employee             1.0                1.0         1.0   \n",
       "3  Current Employee             5.0                2.0         2.0   \n",
       "4  Current Employee             1.0                2.0         2.0   \n",
       "\n",
       "   comp_benefits  senior_mgmt  retention_label  \n",
       "0            3.0          3.0                1  \n",
       "1            1.0          4.0                1  \n",
       "2            1.0          1.0                0  \n",
       "3            2.0          3.0                1  \n",
       "4            1.0          1.0                0  "
      ]
     },
     "execution_count": 10,
     "metadata": {},
     "output_type": "execute_result"
    }
   ],
   "source": [
    "# Keep the necessary columns\n",
    "df = df_cleaned[['id', 'date_review', 'review_year', 'review_month', 'company_size', 'experience_level', 'reviewer_status', 'overall_rating', \n",
    "                'work_life_balance', 'career_opp', 'comp_benefits', 'senior_mgmt', 'retention_label']]\n",
    "\n",
    "df.head()"
   ]
  },
  {
   "cell_type": "markdown",
   "id": "16abc465-be71-4b8a-bbf4-db2265a33797",
   "metadata": {},
   "source": [
    "Keeping only the necessary columns for feature engineering and modeling. "
   ]
  },
  {
   "cell_type": "code",
   "execution_count": 11,
   "id": "3694c74d-23a3-4e54-9c67-72fefe0f6986",
   "metadata": {},
   "outputs": [
    {
     "data": {
      "text/plain": [
       "Index(['id', 'date_review', 'review_year', 'review_month', 'company_size',\n",
       "       'experience_level', 'reviewer_status', 'overall_rating',\n",
       "       'work_life_balance', 'career_opp', 'comp_benefits', 'senior_mgmt',\n",
       "       'retention_label'],\n",
       "      dtype='object')"
      ]
     },
     "execution_count": 11,
     "metadata": {},
     "output_type": "execute_result"
    }
   ],
   "source": [
    "df.columns"
   ]
  },
  {
   "cell_type": "markdown",
   "id": "6fbe3f9f-9ead-4233-8d61-3f4990b747d8",
   "metadata": {},
   "source": [
    "#### Feature Engineering"
   ]
  },
  {
   "cell_type": "code",
   "execution_count": 12,
   "id": "34c7180b-dc82-4378-9b3f-2d993bd12609",
   "metadata": {},
   "outputs": [],
   "source": [
    "# One-hot encoding for company_size\n",
    "df = pd.get_dummies(df, columns=['company_size'])"
   ]
  },
  {
   "cell_type": "markdown",
   "id": "93b4d2be-7f67-4c08-b9a7-d5f5fbd8590a",
   "metadata": {},
   "source": [
    "To prepare the data for machine learning models, we applied one-hot encoding to the company_size column. This process converts the categorical values into a set of binary (0 or 1) columns, allowing models that require numerical input to interpret the data effectively. We used pandas.get_dummies() to perform this transformation."
   ]
  },
  {
   "cell_type": "code",
   "execution_count": 13,
   "id": "f7c4bf76-4190-4388-83c9-10baa63c32ad",
   "metadata": {},
   "outputs": [],
   "source": [
    "df = df.drop('company_size_Small', axis=True)"
   ]
  },
  {
   "cell_type": "markdown",
   "id": "6e1fda6e-0638-46e6-a56c-db3ab0d47e1b",
   "metadata": {},
   "source": [
    "After applying one-hot encoding to the company_size column, we dropped the company_size_Small column to avoid the dummy variable trap. This ensures there is no multicollinearity among the newly created binary columns, which can negatively impact the performance of certain machine learning models (e.g., linear regression)."
   ]
  },
  {
   "cell_type": "code",
   "execution_count": 14,
   "id": "85bba920-d36f-4637-bb8f-dabca3c19cad",
   "metadata": {},
   "outputs": [],
   "source": [
    "from sklearn.preprocessing import LabelEncoder as LE\n",
    "\n",
    "# Create separate encoder instances\n",
    "le_exp = LE()\n",
    "# Apply encoding\n",
    "df['experience_level'] = le_exp.fit_transform(df['experience_level'])\n",
    "\n",
    "# Apply mapping\n",
    "df['reviewer_status'] = df['reviewer_status'].map({\n",
    "    'Current Employee': 1,\n",
    "    'Former Employee': 0\n",
    "})"
   ]
  },
  {
   "cell_type": "markdown",
   "id": "81c3df63-6589-4e3d-87e5-66aa5d85ca10",
   "metadata": {},
   "source": [
    "To convert categorical text data into a numerical format suitable for machine learning models:\n",
    "\n",
    "i. We used Label Encoding on the experience_level column by creating an instance of LabelEncoder from sklearn.preprocessing. This assigns a unique integer to each category in the column.\n",
    "\n",
    "ii. We applied manual mapping on the reviewer_status column to convert 'Current Employee' to 1 and 'Former Employee' to 0, effectively transforming it into a binary feature."
   ]
  },
  {
   "cell_type": "code",
   "execution_count": 15,
   "id": "2c9f02d1-8226-4680-9042-6fd5e91b0983",
   "metadata": {},
   "outputs": [
    {
     "data": {
      "text/plain": [
       "Index(['id', 'date_review', 'review_year', 'review_month', 'experience_level',\n",
       "       'reviewer_status', 'overall_rating', 'work_life_balance', 'career_opp',\n",
       "       'comp_benefits', 'senior_mgmt', 'retention_label', 'company_size_Large',\n",
       "       'company_size_Mid-Size'],\n",
       "      dtype='object')"
      ]
     },
     "execution_count": 15,
     "metadata": {},
     "output_type": "execute_result"
    }
   ],
   "source": [
    "df.columns"
   ]
  },
  {
   "cell_type": "code",
   "execution_count": 16,
   "id": "25708406-1507-4d6d-9d2c-5b62c647148b",
   "metadata": {},
   "outputs": [
    {
     "data": {
      "text/html": [
       "<div>\n",
       "<style scoped>\n",
       "    .dataframe tbody tr th:only-of-type {\n",
       "        vertical-align: middle;\n",
       "    }\n",
       "\n",
       "    .dataframe tbody tr th {\n",
       "        vertical-align: top;\n",
       "    }\n",
       "\n",
       "    .dataframe thead th {\n",
       "        text-align: right;\n",
       "    }\n",
       "</style>\n",
       "<table border=\"1\" class=\"dataframe\">\n",
       "  <thead>\n",
       "    <tr style=\"text-align: right;\">\n",
       "      <th></th>\n",
       "      <th>id</th>\n",
       "      <th>date_review</th>\n",
       "      <th>review_year</th>\n",
       "      <th>review_month</th>\n",
       "      <th>experience_level</th>\n",
       "      <th>reviewer_status</th>\n",
       "      <th>overall_rating</th>\n",
       "      <th>work_life_balance</th>\n",
       "      <th>career_opp</th>\n",
       "      <th>comp_benefits</th>\n",
       "      <th>senior_mgmt</th>\n",
       "      <th>retention_label</th>\n",
       "      <th>company_size_Large</th>\n",
       "      <th>company_size_Mid-Size</th>\n",
       "    </tr>\n",
       "  </thead>\n",
       "  <tbody>\n",
       "    <tr>\n",
       "      <th>0</th>\n",
       "      <td>1</td>\n",
       "      <td>2015-04-05</td>\n",
       "      <td>2015</td>\n",
       "      <td>4</td>\n",
       "      <td>2</td>\n",
       "      <td>1</td>\n",
       "      <td>2.0</td>\n",
       "      <td>4.0</td>\n",
       "      <td>2.0</td>\n",
       "      <td>3.0</td>\n",
       "      <td>3.0</td>\n",
       "      <td>1</td>\n",
       "      <td>False</td>\n",
       "      <td>True</td>\n",
       "    </tr>\n",
       "    <tr>\n",
       "      <th>1</th>\n",
       "      <td>2</td>\n",
       "      <td>2015-12-11</td>\n",
       "      <td>2015</td>\n",
       "      <td>12</td>\n",
       "      <td>0</td>\n",
       "      <td>1</td>\n",
       "      <td>2.0</td>\n",
       "      <td>3.0</td>\n",
       "      <td>2.0</td>\n",
       "      <td>1.0</td>\n",
       "      <td>4.0</td>\n",
       "      <td>1</td>\n",
       "      <td>False</td>\n",
       "      <td>True</td>\n",
       "    </tr>\n",
       "    <tr>\n",
       "      <th>2</th>\n",
       "      <td>3</td>\n",
       "      <td>2016-01-28</td>\n",
       "      <td>2016</td>\n",
       "      <td>1</td>\n",
       "      <td>0</td>\n",
       "      <td>1</td>\n",
       "      <td>1.0</td>\n",
       "      <td>1.0</td>\n",
       "      <td>1.0</td>\n",
       "      <td>1.0</td>\n",
       "      <td>1.0</td>\n",
       "      <td>0</td>\n",
       "      <td>False</td>\n",
       "      <td>True</td>\n",
       "    </tr>\n",
       "    <tr>\n",
       "      <th>3</th>\n",
       "      <td>4</td>\n",
       "      <td>2016-04-16</td>\n",
       "      <td>2016</td>\n",
       "      <td>4</td>\n",
       "      <td>2</td>\n",
       "      <td>1</td>\n",
       "      <td>5.0</td>\n",
       "      <td>2.0</td>\n",
       "      <td>2.0</td>\n",
       "      <td>2.0</td>\n",
       "      <td>3.0</td>\n",
       "      <td>1</td>\n",
       "      <td>False</td>\n",
       "      <td>True</td>\n",
       "    </tr>\n",
       "    <tr>\n",
       "      <th>4</th>\n",
       "      <td>5</td>\n",
       "      <td>2016-04-23</td>\n",
       "      <td>2016</td>\n",
       "      <td>4</td>\n",
       "      <td>0</td>\n",
       "      <td>1</td>\n",
       "      <td>1.0</td>\n",
       "      <td>2.0</td>\n",
       "      <td>2.0</td>\n",
       "      <td>1.0</td>\n",
       "      <td>1.0</td>\n",
       "      <td>0</td>\n",
       "      <td>False</td>\n",
       "      <td>True</td>\n",
       "    </tr>\n",
       "    <tr>\n",
       "      <th>5</th>\n",
       "      <td>6</td>\n",
       "      <td>2016-05-26</td>\n",
       "      <td>2016</td>\n",
       "      <td>5</td>\n",
       "      <td>0</td>\n",
       "      <td>1</td>\n",
       "      <td>3.0</td>\n",
       "      <td>4.0</td>\n",
       "      <td>2.0</td>\n",
       "      <td>3.0</td>\n",
       "      <td>2.0</td>\n",
       "      <td>1</td>\n",
       "      <td>False</td>\n",
       "      <td>True</td>\n",
       "    </tr>\n",
       "    <tr>\n",
       "      <th>6</th>\n",
       "      <td>7</td>\n",
       "      <td>2016-09-23</td>\n",
       "      <td>2016</td>\n",
       "      <td>9</td>\n",
       "      <td>1</td>\n",
       "      <td>0</td>\n",
       "      <td>1.0</td>\n",
       "      <td>1.0</td>\n",
       "      <td>1.0</td>\n",
       "      <td>1.0</td>\n",
       "      <td>1.0</td>\n",
       "      <td>0</td>\n",
       "      <td>False</td>\n",
       "      <td>True</td>\n",
       "    </tr>\n",
       "    <tr>\n",
       "      <th>7</th>\n",
       "      <td>8</td>\n",
       "      <td>2016-09-25</td>\n",
       "      <td>2016</td>\n",
       "      <td>9</td>\n",
       "      <td>2</td>\n",
       "      <td>1</td>\n",
       "      <td>5.0</td>\n",
       "      <td>5.0</td>\n",
       "      <td>5.0</td>\n",
       "      <td>4.0</td>\n",
       "      <td>5.0</td>\n",
       "      <td>1</td>\n",
       "      <td>False</td>\n",
       "      <td>True</td>\n",
       "    </tr>\n",
       "    <tr>\n",
       "      <th>8</th>\n",
       "      <td>9</td>\n",
       "      <td>2016-11-03</td>\n",
       "      <td>2016</td>\n",
       "      <td>11</td>\n",
       "      <td>0</td>\n",
       "      <td>0</td>\n",
       "      <td>4.0</td>\n",
       "      <td>4.0</td>\n",
       "      <td>4.0</td>\n",
       "      <td>4.0</td>\n",
       "      <td>4.0</td>\n",
       "      <td>0</td>\n",
       "      <td>False</td>\n",
       "      <td>True</td>\n",
       "    </tr>\n",
       "    <tr>\n",
       "      <th>9</th>\n",
       "      <td>10</td>\n",
       "      <td>2017-02-21</td>\n",
       "      <td>2017</td>\n",
       "      <td>2</td>\n",
       "      <td>2</td>\n",
       "      <td>0</td>\n",
       "      <td>1.0</td>\n",
       "      <td>1.0</td>\n",
       "      <td>1.0</td>\n",
       "      <td>3.0</td>\n",
       "      <td>1.0</td>\n",
       "      <td>0</td>\n",
       "      <td>False</td>\n",
       "      <td>True</td>\n",
       "    </tr>\n",
       "  </tbody>\n",
       "</table>\n",
       "</div>"
      ],
      "text/plain": [
       "   id date_review  review_year  review_month  experience_level  \\\n",
       "0   1  2015-04-05         2015             4                 2   \n",
       "1   2  2015-12-11         2015            12                 0   \n",
       "2   3  2016-01-28         2016             1                 0   \n",
       "3   4  2016-04-16         2016             4                 2   \n",
       "4   5  2016-04-23         2016             4                 0   \n",
       "5   6  2016-05-26         2016             5                 0   \n",
       "6   7  2016-09-23         2016             9                 1   \n",
       "7   8  2016-09-25         2016             9                 2   \n",
       "8   9  2016-11-03         2016            11                 0   \n",
       "9  10  2017-02-21         2017             2                 2   \n",
       "\n",
       "   reviewer_status  overall_rating  work_life_balance  career_opp  \\\n",
       "0                1             2.0                4.0         2.0   \n",
       "1                1             2.0                3.0         2.0   \n",
       "2                1             1.0                1.0         1.0   \n",
       "3                1             5.0                2.0         2.0   \n",
       "4                1             1.0                2.0         2.0   \n",
       "5                1             3.0                4.0         2.0   \n",
       "6                0             1.0                1.0         1.0   \n",
       "7                1             5.0                5.0         5.0   \n",
       "8                0             4.0                4.0         4.0   \n",
       "9                0             1.0                1.0         1.0   \n",
       "\n",
       "   comp_benefits  senior_mgmt  retention_label  company_size_Large  \\\n",
       "0            3.0          3.0                1               False   \n",
       "1            1.0          4.0                1               False   \n",
       "2            1.0          1.0                0               False   \n",
       "3            2.0          3.0                1               False   \n",
       "4            1.0          1.0                0               False   \n",
       "5            3.0          2.0                1               False   \n",
       "6            1.0          1.0                0               False   \n",
       "7            4.0          5.0                1               False   \n",
       "8            4.0          4.0                0               False   \n",
       "9            3.0          1.0                0               False   \n",
       "\n",
       "   company_size_Mid-Size  \n",
       "0                   True  \n",
       "1                   True  \n",
       "2                   True  \n",
       "3                   True  \n",
       "4                   True  \n",
       "5                   True  \n",
       "6                   True  \n",
       "7                   True  \n",
       "8                   True  \n",
       "9                   True  "
      ]
     },
     "execution_count": 16,
     "metadata": {},
     "output_type": "execute_result"
    }
   ],
   "source": [
    "df.head(10)"
   ]
  },
  {
   "cell_type": "code",
   "execution_count": 17,
   "id": "ffca87de-9816-43bc-ada5-db14ae524f78",
   "metadata": {},
   "outputs": [
    {
     "data": {
      "text/plain": [
       "id                         int64\n",
       "date_review               object\n",
       "review_year                int64\n",
       "review_month               int64\n",
       "experience_level           int64\n",
       "reviewer_status            int64\n",
       "overall_rating           float64\n",
       "work_life_balance        float64\n",
       "career_opp               float64\n",
       "comp_benefits            float64\n",
       "senior_mgmt              float64\n",
       "retention_label            int64\n",
       "company_size_Large          bool\n",
       "company_size_Mid-Size       bool\n",
       "dtype: object"
      ]
     },
     "execution_count": 17,
     "metadata": {},
     "output_type": "execute_result"
    }
   ],
   "source": [
    "df.dtypes"
   ]
  },
  {
   "cell_type": "markdown",
   "id": "c7b913c5-7d01-4bb6-bd9c-cb7286de01e9",
   "metadata": {},
   "source": [
    "#### Select feature and target"
   ]
  },
  {
   "cell_type": "code",
   "execution_count": 18,
   "id": "e9795af3-ccfd-4916-a42a-eb4967b12099",
   "metadata": {},
   "outputs": [],
   "source": [
    "# Define the target\n",
    "target = 'retention_label'\n",
    "\n",
    "# Choose the features\n",
    "features = [\n",
    "    'review_year',\n",
    "    'experience_level',\n",
    "    'overall_rating',\n",
    "    'work_life_balance',\n",
    "    'career_opp',\n",
    "    'comp_benefits',\n",
    "    'senior_mgmt',\n",
    "    'company_size_Large',\n",
    "    'company_size_Mid-Size'\n",
    "]\n",
    "\n",
    "X = df[features]\n",
    "y = df[target]"
   ]
  },
  {
   "cell_type": "markdown",
   "id": "55eb3499-ca0a-4e43-a0c0-e1965549842c",
   "metadata": {},
   "source": [
    "We defined retention_label as the target variable, representing whether an employee is likely to stay or leave.\n",
    "\n",
    "We then selected a set of relevant features that may influence employee retention, including review year, experience level, satisfaction metrics (e.g., work-life balance, compensation), and company size indicators.\n",
    "\n",
    "Using these, we created:\n",
    "\n",
    "X → the feature matrix containing the selected predictors\n",
    "\n",
    "y → the target vector containing the labels for prediction"
   ]
  },
  {
   "cell_type": "markdown",
   "id": "0fabf91b-a187-456a-a309-7b9a685331ad",
   "metadata": {},
   "source": [
    "#### Test-Train Split"
   ]
  },
  {
   "cell_type": "code",
   "execution_count": 19,
   "id": "ec2a798f-9e30-427c-a735-d656fb8725c9",
   "metadata": {},
   "outputs": [],
   "source": [
    "from sklearn.model_selection import train_test_split\n",
    "\n",
    "# Split the dataset into 80% training and 20% testing\n",
    "X_train, X_test, y_train, y_test = train_test_split(\n",
    "    X, y, test_size=0.2, random_state=42, stratify=y\n",
    ")"
   ]
  },
  {
   "cell_type": "markdown",
   "id": "689bff98-fc96-4bff-b2e1-0563c0ab9831",
   "metadata": {},
   "source": [
    "We split the dataset into training and testing sets using an 80/20 ratio. This allows us to train the model on one portion of the data and evaluate its performance on unseen data.\n",
    "train_test_split() from sklearn.model_selection was used.\n",
    "\n",
    "stratify=y ensures that the class distribution in the target variable is preserved in both training and testing sets.\n",
    "\n",
    "random_state=42 was set for reproducibility of the split."
   ]
  },
  {
   "cell_type": "markdown",
   "id": "b5d11ff3-b281-46f4-a018-cb42e3219813",
   "metadata": {},
   "source": [
    "#### Logistic Regression Model"
   ]
  },
  {
   "cell_type": "code",
   "execution_count": 20,
   "id": "4e682ca8-04d6-4984-b30b-4fffcb4db647",
   "metadata": {},
   "outputs": [
    {
     "name": "stdout",
     "output_type": "stream",
     "text": [
      "Confusion Matrix:\n",
      "[[42251 30212]\n",
      " [20456 61003]]\n",
      "\n",
      "Logistic Regression Classification Report:\n",
      "              precision    recall  f1-score   support\n",
      "\n",
      "           0       0.67      0.58      0.63     72463\n",
      "           1       0.67      0.75      0.71     81459\n",
      "\n",
      "    accuracy                           0.67    153922\n",
      "   macro avg       0.67      0.67      0.67    153922\n",
      "weighted avg       0.67      0.67      0.67    153922\n",
      "\n"
     ]
    }
   ],
   "source": [
    "from sklearn.linear_model import LogisticRegression\n",
    "from sklearn.metrics import classification_report, confusion_matrix\n",
    "\n",
    "# Initialize the train model\n",
    "log_model = LogisticRegression(max_iter=1000)\n",
    "log_model.fit(X_train, y_train)\n",
    "\n",
    "# Prediction \n",
    "y_pred_log = log_model.predict(X_test)\n",
    "\n",
    "# Confusion Matrix\n",
    "print(\"Confusion Matrix:\")\n",
    "print(confusion_matrix(y_test, y_pred_log))\n",
    "\n",
    "print()\n",
    "\n",
    "# Classification report\n",
    "print(\"Logistic Regression Classification Report:\")\n",
    "print(classification_report(y_test, y_pred_log))"
   ]
  },
  {
   "cell_type": "code",
   "execution_count": 21,
   "id": "13491403-6c6b-4784-8f53-1086cc18da4f",
   "metadata": {},
   "outputs": [
    {
     "data": {
      "image/png": "[encoded data removed]",
      "text/plain": [
       "<Figure size 600x400 with 2 Axes>"
      ]
     },
     "metadata": {},
     "output_type": "display_data"
    }
   ],
   "source": [
    "import matplotlib.pyplot as plt\n",
    "import seaborn as sns \n",
    "\n",
    "# Confusion Matrix\n",
    "cm = confusion_matrix(y_test, y_pred_log)\n",
    "\n",
    "# Visualize\n",
    "plt.figure(figsize=(6, 4))\n",
    "sns.heatmap(cm, annot=True,  fmt='d', cmap='Reds')\n",
    "plt.xlabel(\"Predicted\")\n",
    "plt.ylabel(\"Actual\")\n",
    "plt.title(\"Confusion Matrix\")\n",
    "plt.show()"
   ]
  },
  {
   "cell_type": "markdown",
   "id": "1572e266-1386-4908-a28d-e07effbfe6f3",
   "metadata": {},
   "source": [
    "#### Random Forest Model"
   ]
  },
  {
   "cell_type": "code",
   "execution_count": 22,
   "id": "f70a045d-e13f-4c10-b753-ed875a0e4d1c",
   "metadata": {},
   "outputs": [
    {
     "name": "stdout",
     "output_type": "stream",
     "text": [
      "Confusion Matrix:\n",
      "[[49536 22927]\n",
      " [10226 71233]]\n",
      "\n",
      "Random Forest Classification Report:\n",
      "              precision    recall  f1-score   support\n",
      "\n",
      "           0       0.83      0.68      0.75     72463\n",
      "           1       0.76      0.87      0.81     81459\n",
      "\n",
      "    accuracy                           0.78    153922\n",
      "   macro avg       0.79      0.78      0.78    153922\n",
      "weighted avg       0.79      0.78      0.78    153922\n",
      "\n"
     ]
    }
   ],
   "source": [
    "from sklearn.ensemble import RandomForestClassifier\n",
    "\n",
    "rf_model = RandomForestClassifier(n_estimators=100, random_state=42)\n",
    "rf_model.fit(X_train, y_train)\n",
    "\n",
    "y_pred_rf = rf_model.predict(X_test)\n",
    "\n",
    "# Confusion Matrix\n",
    "print(\"Confusion Matrix:\")\n",
    "print(confusion_matrix(y_test, y_pred_rf))\n",
    "\n",
    "print()\n",
    "\n",
    "# Classification report\n",
    "print(\"Random Forest Classification Report:\")\n",
    "print(classification_report(y_test, y_pred_rf))"
   ]
  },
  {
   "cell_type": "code",
   "execution_count": 23,
   "id": "660d7bba-0c2e-4bfd-bc3d-79582ab8616b",
   "metadata": {},
   "outputs": [
    {
     "data": {
      "image/png": "[encoded data removed]",
      "text/plain": [
       "<Figure size 600x400 with 2 Axes>"
      ]
     },
     "metadata": {},
     "output_type": "display_data"
    }
   ],
   "source": [
    "# Confusion Matrix\n",
    "cm = confusion_matrix(y_test, y_pred_rf)\n",
    "\n",
    "# Visualize\n",
    "plt.figure(figsize=(6, 4))\n",
    "sns.heatmap(cm, annot=True,  fmt='d', cmap='Reds')\n",
    "plt.xlabel(\"Predicted\")\n",
    "plt.ylabel(\"Actual\")\n",
    "plt.title(\"Confusion Matrix\")\n",
    "plt.show()"
   ]
  },
  {
   "cell_type": "markdown",
   "id": "d826b5b7-9ed4-4cf1-8c41-f1b721878edc",
   "metadata": {},
   "source": [
    "#### XGBoost Model"
   ]
  },
  {
   "cell_type": "code",
   "execution_count": 24,
   "id": "98ff77a7-9186-4173-8b00-6729aa82ffc7",
   "metadata": {},
   "outputs": [
    {
     "name": "stdout",
     "output_type": "stream",
     "text": [
      "Confusion Matrix:\n",
      "[[48569 23894]\n",
      " [ 7502 73957]]\n",
      "\n",
      "XGBoost Classification Report:\n",
      "              precision    recall  f1-score   support\n",
      "\n",
      "           0       0.87      0.67      0.76     72463\n",
      "           1       0.76      0.91      0.82     81459\n",
      "\n",
      "    accuracy                           0.80    153922\n",
      "   macro avg       0.81      0.79      0.79    153922\n",
      "weighted avg       0.81      0.80      0.79    153922\n",
      "\n"
     ]
    }
   ],
   "source": [
    "from xgboost import XGBClassifier\n",
    "from sklearn.metrics import classification_report, confusion_matrix\n",
    "\n",
    "model_xgb = XGBClassifier(eval_metric='logloss')\n",
    "model_xgb.fit(X_train, y_train)\n",
    "\n",
    "y_pred_xgb = model_xgb.predict(X_test)\n",
    "print(\"Confusion Matrix:\") \n",
    "print(confusion_matrix(y_test, y_pred_xgb))\n",
    "print()\n",
    "print(\"XGBoost Classification Report:\")\n",
    "print(classification_report(y_test, y_pred_xgb))\n"
   ]
  },
  {
   "cell_type": "code",
   "execution_count": 25,
   "id": "2ce239f0-e9a4-405b-8794-7fe2ac9440bf",
   "metadata": {},
   "outputs": [
    {
     "data": {
      "image/png": "[encoded data removed]",
      "text/plain": [
       "<Figure size 600x400 with 2 Axes>"
      ]
     },
     "metadata": {},
     "output_type": "display_data"
    }
   ],
   "source": [
    "# Confusion Matrix\n",
    "cm = confusion_matrix(y_test, y_pred_xgb)\n",
    "\n",
    "# Visualize\n",
    "plt.figure(figsize=(6, 4))\n",
    "sns.heatmap(cm, annot=True,  fmt='d', cmap='Reds')\n",
    "plt.xlabel(\"Predicted\")\n",
    "plt.ylabel(\"Actual\")\n",
    "plt.title(\"Confusion Matrix\")\n",
    "plt.show()"
   ]
  },
  {
   "cell_type": "code",
   "execution_count": 26,
   "id": "68caf53e-7abc-4772-bf54-03b1ca74df24",
   "metadata": {},
   "outputs": [
    {
     "data": {
      "image/png": "[encoded data removed]",
      "text/plain": [
       "<Figure size 800x500 with 1 Axes>"
      ]
     },
     "metadata": {},
     "output_type": "display_data"
    }
   ],
   "source": [
    "# Plot feature importances\n",
    "importances = model_xgb.feature_importances_\n",
    "feature_names = X.columns\n",
    "\n",
    "plt.figure(figsize=(8, 5))\n",
    "sns.barplot(x=importances, y=feature_names)\n",
    "plt.title('Feature Importance')\n",
    "plt.xlabel('Importance')\n",
    "plt.ylabel('Feature')\n",
    "plt.tight_layout()\n",
    "plt.show()"
   ]
  },
  {
   "cell_type": "markdown",
   "id": "decc1175-56de-470a-9ddf-12143974f31e",
   "metadata": {},
   "source": [
    "#### Gradient Boosting Model"
   ]
  },
  {
   "cell_type": "code",
   "execution_count": 27,
   "id": "2252839b-cfea-4822-a84d-423c9f46971f",
   "metadata": {},
   "outputs": [
    {
     "name": "stdout",
     "output_type": "stream",
     "text": [
      "Confusion Matrix:\n",
      "[[49095 23368]\n",
      " [ 8688 72771]]\n",
      "\n",
      "Gradient Boosting Classification Report:\n",
      "              precision    recall  f1-score   support\n",
      "\n",
      "           0       0.85      0.68      0.75     72463\n",
      "           1       0.76      0.89      0.82     81459\n",
      "\n",
      "    accuracy                           0.79    153922\n",
      "   macro avg       0.80      0.79      0.79    153922\n",
      "weighted avg       0.80      0.79      0.79    153922\n",
      "\n"
     ]
    }
   ],
   "source": [
    "from sklearn.ensemble import GradientBoostingClassifier\n",
    "\n",
    "model_gb = GradientBoostingClassifier()\n",
    "model_gb.fit(X_train, y_train)\n",
    "\n",
    "y_pred_gb = model_gb.predict(X_test)\n",
    "\n",
    "print(\"Confusion Matrix:\")\n",
    "print(confusion_matrix(y_test, y_pred_gb))\n",
    "print()\n",
    "print(\"Gradient Boosting Classification Report:\")\n",
    "print(classification_report(y_test, y_pred_gb))\n"
   ]
  },
  {
   "cell_type": "code",
   "execution_count": 28,
   "id": "5d55074c-ad62-4c43-bf37-b31b802f663d",
   "metadata": {},
   "outputs": [
    {
     "data": {
      "image/png": "[encoded data removed]",
      "text/plain": [
       "<Figure size 600x400 with 2 Axes>"
      ]
     },
     "metadata": {},
     "output_type": "display_data"
    }
   ],
   "source": [
    "# Confusion Matrix\n",
    "cm = confusion_matrix(y_test, y_pred_gb)\n",
    "\n",
    "# Visualize\n",
    "plt.figure(figsize=(6, 4))\n",
    "sns.heatmap(cm, annot=True,  fmt='d', cmap='Reds')\n",
    "plt.xlabel(\"Predicted\")\n",
    "plt.ylabel(\"Actual\")\n",
    "plt.title(\"Confusion Matrix\")\n",
    "plt.show()"
   ]
  },
  {
   "cell_type": "markdown",
   "id": "79b42248-6298-4f29-b9e7-b0b6d0dcaf9f",
   "metadata": {},
   "source": [
    "#### MLPClasssifier Model"
   ]
  },
  {
   "cell_type": "code",
   "execution_count": 29,
   "id": "8b25cfc9-9588-4b23-aa82-c83d8a322621",
   "metadata": {},
   "outputs": [
    {
     "name": "stdout",
     "output_type": "stream",
     "text": [
      "Confusion Matrix:\n",
      "[[44234 28229]\n",
      " [22923 58536]]\n",
      "\n",
      "MLPClassifier Classification Report:\n",
      "              precision    recall  f1-score   support\n",
      "\n",
      "           0       0.66      0.61      0.63     72463\n",
      "           1       0.67      0.72      0.70     81459\n",
      "\n",
      "    accuracy                           0.67    153922\n",
      "   macro avg       0.67      0.66      0.66    153922\n",
      "weighted avg       0.67      0.67      0.67    153922\n",
      "\n"
     ]
    }
   ],
   "source": [
    "from sklearn.neural_network import MLPClassifier\n",
    "\n",
    "model_mlp = MLPClassifier(max_iter=1000)\n",
    "model_mlp.fit(X_train, y_train)\n",
    "\n",
    "y_pred_mlp = model_mlp.predict(X_test)\n",
    "print(\"Confusion Matrix:\")\n",
    "print(confusion_matrix(y_test, y_pred_mlp))\n",
    "print()\n",
    "print(\"MLPClassifier Classification Report:\")\n",
    "print(classification_report(y_test, y_pred_mlp))"
   ]
  },
  {
   "cell_type": "code",
   "execution_count": 30,
   "id": "d0a42309-296b-4024-a550-c3948a9bb277",
   "metadata": {},
   "outputs": [
    {
     "data": {
      "image/png": "[encoded data removed]",
      "text/plain": [
       "<Figure size 600x400 with 2 Axes>"
      ]
     },
     "metadata": {},
     "output_type": "display_data"
    }
   ],
   "source": [
    "# Confusion Matrix\n",
    "cm = confusion_matrix(y_test, y_pred_mlp)\n",
    "\n",
    "# Visualize\n",
    "plt.figure(figsize=(6, 4))\n",
    "sns.heatmap(cm, annot=True,  fmt='d', cmap='Reds')\n",
    "plt.xlabel(\"Predicted\")\n",
    "plt.ylabel(\"Actual\")\n",
    "plt.title(\"Confusion Matrix\")\n",
    "plt.show()"
   ]
  },
  {
   "cell_type": "markdown",
   "id": "6966c3ae-5e80-4870-90d6-77df2ddff56e",
   "metadata": {},
   "source": [
    "#### Decision Tree Model"
   ]
  },
  {
   "cell_type": "code",
   "execution_count": 31,
   "id": "102dbbf2-12bf-413d-bf50-02bd328354b3",
   "metadata": {},
   "outputs": [
    {
     "name": "stdout",
     "output_type": "stream",
     "text": [
      "Confusion Matrix:\n",
      "[[48603 23860]\n",
      " [ 7679 73780]]\n",
      "\n",
      "Decision Tree Classification Report:\n",
      "              precision    recall  f1-score   support\n",
      "\n",
      "           0       0.86      0.67      0.76     72463\n",
      "           1       0.76      0.91      0.82     81459\n",
      "\n",
      "    accuracy                           0.80    153922\n",
      "   macro avg       0.81      0.79      0.79    153922\n",
      "weighted avg       0.81      0.80      0.79    153922\n",
      "\n"
     ]
    }
   ],
   "source": [
    "from sklearn.tree import DecisionTreeClassifier\n",
    "from sklearn.metrics import classification_report, confusion_matrix\n",
    "\n",
    "# Initialize and train the model\n",
    "dt_model = DecisionTreeClassifier(random_state=42, max_depth=10) \n",
    "dt_model.fit(X_train, y_train)\n",
    "\n",
    "# Evaluate\n",
    "y_pred_dt = dt_model.predict(X_test)\n",
    "print(\"Confusion Matrix:\")\n",
    "print(confusion_matrix(y_test, y_pred_dt))\n",
    "print()\n",
    "print(\"Decision Tree Classification Report:\")\n",
    "print(classification_report(y_test, y_pred_dt))"
   ]
  },
  {
   "cell_type": "markdown",
   "id": "b6b833fb-b57e-4bf7-8f0c-77c3ca117cc4",
   "metadata": {},
   "source": [
    "After trying multiple models, I am finalizing this model because of its balance between predictive performance and interpretability. "
   ]
  },
  {
   "cell_type": "code",
   "execution_count": 32,
   "id": "c049ac68-e6b2-4c09-a57f-25ac2fd9ba8f",
   "metadata": {},
   "outputs": [
    {
     "data": {
      "image/png": "[encoded data removed]",
      "text/plain": [
       "<Figure size 600x400 with 2 Axes>"
      ]
     },
     "metadata": {},
     "output_type": "display_data"
    }
   ],
   "source": [
    "# Confusion Matrix\n",
    "cm = confusion_matrix(y_test, y_pred_dt)\n",
    "\n",
    "# Visualize\n",
    "plt.figure(figsize=(6, 4))\n",
    "sns.heatmap(cm, annot=True,  fmt='d', cmap='Reds')\n",
    "plt.xlabel(\"Predicted\")\n",
    "plt.ylabel(\"Actual\")\n",
    "plt.title(\"Confusion Matrix\")\n",
    "plt.show()"
   ]
  },
  {
   "cell_type": "code",
   "execution_count": 33,
   "id": "8015c47d-70a6-49c5-9f5b-063a073cb213",
   "metadata": {},
   "outputs": [
    {
     "data": {
      "image/png": "[encoded data removed]",
      "text/plain": [
       "<Figure size 800x500 with 1 Axes>"
      ]
     },
     "metadata": {},
     "output_type": "display_data"
    }
   ],
   "source": [
    "# Plot feature importances\n",
    "importances = dt_model.feature_importances_\n",
    "feature_names = X.columns\n",
    "\n",
    "plt.figure(figsize=(8, 5))\n",
    "sns.barplot(x=importances, y=feature_names)\n",
    "plt.title('Feature Importance')\n",
    "plt.xlabel('Importance')\n",
    "plt.ylabel('Feature')\n",
    "plt.tight_layout()\n",
    "plt.show()"
   ]
  },
  {
   "cell_type": "markdown",
   "id": "0e71efa6-100e-4246-baf8-b0e6b52a5e93",
   "metadata": {},
   "source": [
    "'experience_level' was the most influential predictor of retention, followed by 'senior_mgmt' and 'overall_rating'. This suggests that more experienced employees are more likely to stay or leave depending on their satisfaction with senior management and their overall perception of the organization."
   ]
  },
  {
   "cell_type": "code",
   "execution_count": 34,
   "id": "0b98e121-cd27-4f8e-b016-58de92844a6f",
   "metadata": {},
   "outputs": [
    {
     "name": "stdout",
     "output_type": "stream",
     "text": [
      "Index(['review_year', 'experience_level', 'overall_rating',\n",
      "       'work_life_balance', 'career_opp', 'comp_benefits', 'senior_mgmt',\n",
      "       'company_size_Large', 'company_size_Mid-Size'],\n",
      "      dtype='object') [1.76170508e-02 5.97326887e-01 9.10284206e-02 5.62445306e-02\n",
      " 5.30899552e-02 3.62314420e-02 1.47710402e-01 2.71213021e-04\n",
      " 4.80098807e-04]\n"
     ]
    }
   ],
   "source": [
    "print(feature_names, importances)"
   ]
  },
  {
   "cell_type": "code",
   "execution_count": 35,
   "id": "1f8fa89a-c441-4d03-b702-3c4c2d356768",
   "metadata": {},
   "outputs": [
    {
     "data": {
      "image/png": "[encoded data removed]",
      "text/plain": [
       "<Figure size 640x480 with 1 Axes>"
      ]
     },
     "metadata": {},
     "output_type": "display_data"
    }
   ],
   "source": [
    "from sklearn.metrics import roc_curve, auc\n",
    "\n",
    "y_probs = dt_model.predict_proba(X_test)[:,1]\n",
    "fpr, tpr, _ = roc_curve(y_test, y_probs)\n",
    "roc_auc = auc(fpr, tpr)\n",
    "\n",
    "plt.figure()\n",
    "plt.plot(fpr, tpr, label=f'Decision Tree (AUC = {roc_auc:.2f})')\n",
    "plt.plot([0, 1], [0, 1], 'k--')\n",
    "plt.xlabel('False Positive Rate')\n",
    "plt.ylabel('True Positive Rate')\n",
    "plt.title('ROC Curve')\n",
    "plt.legend()\n",
    "plt.show()\n"
   ]
  },
  {
   "cell_type": "markdown",
   "id": "b24160a8-ce05-4345-b751-635641dc6b0b",
   "metadata": {},
   "source": [
    "The ROC curve demonstrates the model’s ability to distinguish between the two classes. The curve rises quickly toward the top-left corner, indicating a high true positive rate and a low false positive rate across various thresholds. The area under the curve (AUC) is 0.87, which confirms the model’s robustness in binary classification tasks."
   ]
  },
  {
   "cell_type": "code",
   "execution_count": 36,
   "id": "3b03e82f-2c0f-4114-9759-4d5b3398f495",
   "metadata": {},
   "outputs": [
    {
     "data": {
      "text/html": [
       "<div>\n",
       "<style scoped>\n",
       "    .dataframe tbody tr th:only-of-type {\n",
       "        vertical-align: middle;\n",
       "    }\n",
       "\n",
       "    .dataframe tbody tr th {\n",
       "        vertical-align: top;\n",
       "    }\n",
       "\n",
       "    .dataframe thead th {\n",
       "        text-align: right;\n",
       "    }\n",
       "</style>\n",
       "<table border=\"1\" class=\"dataframe\">\n",
       "  <thead>\n",
       "    <tr style=\"text-align: right;\">\n",
       "      <th></th>\n",
       "      <th>id</th>\n",
       "      <th>dt_pred</th>\n",
       "      <th>dt_prob</th>\n",
       "    </tr>\n",
       "  </thead>\n",
       "  <tbody>\n",
       "    <tr>\n",
       "      <th>0</th>\n",
       "      <td>1</td>\n",
       "      <td>1</td>\n",
       "      <td>0.842040</td>\n",
       "    </tr>\n",
       "    <tr>\n",
       "      <th>1</th>\n",
       "      <td>2</td>\n",
       "      <td>0</td>\n",
       "      <td>0.495465</td>\n",
       "    </tr>\n",
       "    <tr>\n",
       "      <th>2</th>\n",
       "      <td>3</td>\n",
       "      <td>0</td>\n",
       "      <td>0.040964</td>\n",
       "    </tr>\n",
       "    <tr>\n",
       "      <th>3</th>\n",
       "      <td>4</td>\n",
       "      <td>1</td>\n",
       "      <td>0.836875</td>\n",
       "    </tr>\n",
       "    <tr>\n",
       "      <th>4</th>\n",
       "      <td>5</td>\n",
       "      <td>0</td>\n",
       "      <td>0.040964</td>\n",
       "    </tr>\n",
       "    <tr>\n",
       "      <th>5</th>\n",
       "      <td>6</td>\n",
       "      <td>1</td>\n",
       "      <td>0.544161</td>\n",
       "    </tr>\n",
       "    <tr>\n",
       "      <th>7</th>\n",
       "      <td>8</td>\n",
       "      <td>1</td>\n",
       "      <td>0.865554</td>\n",
       "    </tr>\n",
       "    <tr>\n",
       "      <th>10</th>\n",
       "      <td>11</td>\n",
       "      <td>0</td>\n",
       "      <td>0.040964</td>\n",
       "    </tr>\n",
       "    <tr>\n",
       "      <th>12</th>\n",
       "      <td>13</td>\n",
       "      <td>1</td>\n",
       "      <td>0.864865</td>\n",
       "    </tr>\n",
       "    <tr>\n",
       "      <th>14</th>\n",
       "      <td>15</td>\n",
       "      <td>1</td>\n",
       "      <td>0.865554</td>\n",
       "    </tr>\n",
       "  </tbody>\n",
       "</table>\n",
       "</div>"
      ],
      "text/plain": [
       "    id  dt_pred   dt_prob\n",
       "0    1        1  0.842040\n",
       "1    2        0  0.495465\n",
       "2    3        0  0.040964\n",
       "3    4        1  0.836875\n",
       "4    5        0  0.040964\n",
       "5    6        1  0.544161\n",
       "7    8        1  0.865554\n",
       "10  11        0  0.040964\n",
       "12  13        1  0.864865\n",
       "14  15        1  0.865554"
      ]
     },
     "execution_count": 36,
     "metadata": {},
     "output_type": "execute_result"
    }
   ],
   "source": [
    "# Predict only for current employees\n",
    "current_employees = df[df['reviewer_status'] == 1].copy()\n",
    "X_current = current_employees[features]\n",
    "\n",
    "# Prediction for current employees\n",
    "current_employees['dt_pred'] = dt_model.predict(X_current)\n",
    "current_employees['dt_prob'] = dt_model.predict_proba(X_current)[:, 1]\n",
    "\n",
    "current_employees[['id', 'dt_pred', 'dt_prob']].head(10)"
   ]
  },
  {
   "cell_type": "code",
   "execution_count": 37,
   "id": "fa1fbb89-3695-44c0-b309-c0bcdd4b802e",
   "metadata": {},
   "outputs": [
    {
     "name": "stdout",
     "output_type": "stream",
     "text": [
      "Number of Current Employees: 450620\n",
      "\n",
      "Number of current employees likely to stay in the companies: 369467\n",
      "\n",
      "Number of current employees likely to leave the companies: 81153\n"
     ]
    }
   ],
   "source": [
    "# Current Employees\n",
    "print(\"Number of Current Employees:\", len(current_employees))\n",
    "\n",
    "# Current Employees Likely to Stay\n",
    "staying_employees = current_employees[current_employees['dt_pred']==1]\n",
    "print(\"\\nNumber of current employees likely to stay in the companies:\", len(staying_employees))\n",
    "\n",
    "# Current Employees Likely to Leave \n",
    "leaving_employees = current_employees[current_employees['dt_pred']==0]\n",
    "print(\"\\nNumber of current employees likely to leave the companies:\", len(leaving_employees))"
   ]
  },
  {
   "cell_type": "code",
   "execution_count": 42,
   "id": "ca648b7a-c9c2-4229-8e60-dc479ff03e9e",
   "metadata": {},
   "outputs": [
    {
     "name": "stdout",
     "output_type": "stream",
     "text": [
      " 81.99% employees might stay in the companies & 18.01% might leave.\n"
     ]
    }
   ],
   "source": [
    "staying_percentage = (len(staying_employees)/ len(current_employees))*100\n",
    "leaving_percentage = (len(leaving_employees)/ len(current_employees))*100\n",
    "print(f\"{staying_percentage: .2f}% employees might stay in the companies &{leaving_percentage: .2f}% might leave.\")"
   ]
  },
  {
   "cell_type": "markdown",
   "id": "29a870fa-3abb-4d4f-b0a9-309c7d66ad4c",
   "metadata": {},
   "source": [
    "#### Merge of multiple models"
   ]
  },
  {
   "cell_type": "code",
   "execution_count": 39,
   "id": "d166129e-14b7-47b8-a75a-84450a8312b9",
   "metadata": {},
   "outputs": [
    {
     "name": "stdout",
     "output_type": "stream",
     "text": [
      "Confusion Matrix:\n",
      "[[48989 23474]\n",
      " [ 8617 72842]]\n",
      "\n",
      "Voting Classifier Classification Report:\n",
      "              precision    recall  f1-score   support\n",
      "\n",
      "           0       0.85      0.68      0.75     72463\n",
      "           1       0.76      0.89      0.82     81459\n",
      "\n",
      "    accuracy                           0.79    153922\n",
      "   macro avg       0.80      0.79      0.79    153922\n",
      "weighted avg       0.80      0.79      0.79    153922\n",
      "\n"
     ]
    }
   ],
   "source": [
    "from sklearn.ensemble import VotingClassifier\n",
    "\n",
    "# Initialize models\n",
    "xgb = XGBClassifier(eval_metric='logloss', random_state=42)\n",
    "gb_model = GradientBoostingClassifier(n_estimators=100, learning_rate=0.1, max_depth=3, random_state=42)\n",
    "dtree = DecisionTreeClassifier(random_state=42)\n",
    "\n",
    "# Create Voting Classifier \n",
    "voting_clf = VotingClassifier(\n",
    "    estimators=[('xgb', xgb),('gradient_boosting', gb_model), ('dt', dtree)],\n",
    "    voting='soft'\n",
    ")\n",
    "\n",
    "# Train the voting classifier\n",
    "voting_clf.fit(X_train, y_train)\n",
    "\n",
    "# Predict on test data\n",
    "y_pred_voting_clf = voting_clf.predict(X_test)\n",
    "\n",
    "# Evaluate performance\n",
    "print(\"Confusion Matrix:\")\n",
    "print(confusion_matrix(y_test, y_pred_voting_clf))\n",
    "\n",
    "print(\"\\nVoting Classifier Classification Report:\")\n",
    "print(classification_report(y_test, y_pred_voting_clf))\n"
   ]
  }
 ],
 "metadata": {
  "kernelspec": {
   "display_name": "Python 3 (ipykernel)",
   "language": "python",
   "name": "python3"
  },
  "language_info": {
   "codemirror_mode": {
    "name": "ipython",
    "version": 3
   },
   "file_extension": ".py",
   "mimetype": "text/x-python",
   "name": "python",
   "nbconvert_exporter": "python",
   "pygments_lexer": "ipython3",
   "version": "3.13.1"
  }
 },
 "nbformat": 4,
 "nbformat_minor": 5
}
